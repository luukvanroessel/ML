{
 "cells": [
  {
   "cell_type": "code",
   "execution_count": 2,
   "metadata": {},
   "outputs": [],
   "source": [
    "from funda_scraper import FundaScraper\n",
    "from IPython.display import clear_output\n",
    "import pandas as pd\n",
    "import numpy as np\n",
    "import requests.exceptions"
   ]
  },
  {
   "cell_type": "code",
   "execution_count": 14,
   "metadata": {},
   "outputs": [
    {
     "name": "stderr",
     "output_type": "stream",
     "text": [
      "\u001b[38;20m2024-01-21 21:38:05,233 - INFO - *** Phase 1: Fetch all the available links from all pages ***  (scrape.py:122)\u001b[0m\n"
     ]
    },
    {
     "name": "stdout",
     "output_type": "stream",
     "text": [
      "Current iteration 60 of 60\n"
     ]
    },
    {
     "name": "stderr",
     "output_type": "stream",
     "text": [
      "100%|██████████| 1/1 [00:02<00:00,  2.33s/it]\n",
      "\u001b[38;20m2024-01-21 21:38:07,565 - INFO - *** Got all the urls. 5 houses found from 60 to 60 *** (scrape.py:138)\u001b[0m\n",
      "\u001b[38;20m2024-01-21 21:38:07,565 - INFO - *** Phase 2: Start scraping from individual links *** (scrape.py:239)\u001b[0m\n",
      "100%|██████████| 5/5 [00:05<00:00,  1.19s/it]\n",
      "\u001b[38;20m2024-01-21 21:38:13,898 - INFO - *** All scraping done: 5 results *** (scrape.py:254)\u001b[0m\n",
      "\u001b[38;20m2024-01-21 21:38:13,898 - INFO - *** Cleaning data *** (scrape.py:285)\u001b[0m\n",
      "\u001b[38;20m2024-01-21 21:38:13,929 - INFO - *** File saved: test.csv. *** (scrape.py:266)\u001b[0m\n",
      "\u001b[38;20m2024-01-21 21:38:13,929 - INFO - *** Done! *** (scrape.py:292)\u001b[0m\n"
     ]
    }
   ],
   "source": [
    "houses_df = pd.DataFrame()\n",
    "pages_array = np.arange(1, 61, 1)\n",
    "max_retries = 5  # You can adjust the number of retries as needed\n",
    "\n",
    "for page in pages_array:\n",
    "    retries = 0\n",
    "    while retries < max_retries:\n",
    "        try:\n",
    "            print(f\"Current iteration {page} of {len(pages_array)}\")\n",
    "            scraper = FundaScraper(area=\"amsterdam\", want_to=\"koop\", find_past=False, page_start=page, n_pages=1, min_price=300000, max_price=450000)\n",
    "            df = scraper.run(raw_data=False, save=True, filepath=\"test.csv\")\n",
    "            houses_df = pd.concat([houses_df, df], axis=0, ignore_index=True)\n",
    "            clear_output(wait=True)\n",
    "            break  # Exit the retry loop if successful\n",
    "        except requests.exceptions.SSLError:\n",
    "            retries += 1\n",
    "            page = page - 1\n",
    "            print(f\"SSLError occurred. Retrying ({retries}/{max_retries})...\")\n",
    "        except Exception as e:\n",
    "            print(f\"An error occurred: {e}\")\n",
    "            break  # Exit the retry loop if an unexpected error occurs"
   ]
  },
  {
   "cell_type": "code",
   "execution_count": 24,
   "metadata": {},
   "outputs": [],
   "source": [
    "houses_df.to_csv(\"240121_houses.csv\", index=False)"
   ]
  }
 ],
 "metadata": {
  "kernelspec": {
   "display_name": "ml-luuk",
   "language": "python",
   "name": "python3"
  },
  "language_info": {
   "codemirror_mode": {
    "name": "ipython",
    "version": 3
   },
   "file_extension": ".py",
   "mimetype": "text/x-python",
   "name": "python",
   "nbconvert_exporter": "python",
   "pygments_lexer": "ipython3",
   "version": "3.10.12"
  }
 },
 "nbformat": 4,
 "nbformat_minor": 2
}
