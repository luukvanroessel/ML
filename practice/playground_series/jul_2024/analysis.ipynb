{
 "cells": [
  {
   "cell_type": "code",
   "execution_count": 1,
   "metadata": {},
   "outputs": [],
   "source": [
    "import pandas as pd\n",
    "import numpy as np\n",
    "\n"
   ]
  },
  {
   "cell_type": "markdown",
   "metadata": {},
   "source": [
    "# Kaggle July 2024\n",
    "\n",
    "## Binary Classification of Insurance Cross Selling\n",
    "\n",
    "**Objective**: The objective of this competition is to predict which customers respond positively to an automobile insurance offer.\n",
    "\n",
    "**Evaluation:** Submissions are evaluated using area under the ROC curve using the predicted probabilities and the ground truth targets.\n"
   ]
  },
  {
   "cell_type": "code",
   "execution_count": 2,
   "metadata": {},
   "outputs": [],
   "source": [
    "raw_df = pd.read_csv(\"/home/luukvanroessel/Documents/ML/practice/playground_series/jul_2024/train.csv\", index_col=0)"
   ]
  },
  {
   "cell_type": "markdown",
   "metadata": {},
   "source": [
    "- **Response**: Outcome variable, categorical, ~88% is class `0`, ~12% is class `1`\n",
    "- **Categorical features**\n",
    "    - **Gender**: Male/Female\n",
    "    - **Driving_License**: 0/1\n",
    "    - **Previously_Insured**: 0/1\n",
    "    - **Vehicla_Age**: {'1-2 Year' '> 2 Years' '< 1 Year'}\n",
    "    - **Vehicle damage**: yes/no\n",
    "    - **Region_Code**: Looks like a categorical feature with many classes\n",
    "    - **Policy_Sales_Channel**: Looks like a categorical feature with many classes\n",
    "- **Continuous features**\n",
    "    - **Anual_Premium**\n",
    "    - **Vintage**: Likely a continuous feature, I'm not entirely sure what this feature means"
   ]
  },
  {
   "cell_type": "code",
   "execution_count": 3,
   "metadata": {},
   "outputs": [
    {
     "data": {
      "text/html": [
       "<div>\n",
       "<style scoped>\n",
       "    .dataframe tbody tr th:only-of-type {\n",
       "        vertical-align: middle;\n",
       "    }\n",
       "\n",
       "    .dataframe tbody tr th {\n",
       "        vertical-align: top;\n",
       "    }\n",
       "\n",
       "    .dataframe thead th {\n",
       "        text-align: right;\n",
       "    }\n",
       "</style>\n",
       "<table border=\"1\" class=\"dataframe\">\n",
       "  <thead>\n",
       "    <tr style=\"text-align: right;\">\n",
       "      <th></th>\n",
       "      <th>Gender</th>\n",
       "      <th>Age</th>\n",
       "      <th>Driving_License</th>\n",
       "      <th>Region_Code</th>\n",
       "      <th>Previously_Insured</th>\n",
       "      <th>Vehicle_Age</th>\n",
       "      <th>Vehicle_Damage</th>\n",
       "      <th>Annual_Premium</th>\n",
       "      <th>Policy_Sales_Channel</th>\n",
       "      <th>Vintage</th>\n",
       "      <th>Response</th>\n",
       "    </tr>\n",
       "    <tr>\n",
       "      <th>id</th>\n",
       "      <th></th>\n",
       "      <th></th>\n",
       "      <th></th>\n",
       "      <th></th>\n",
       "      <th></th>\n",
       "      <th></th>\n",
       "      <th></th>\n",
       "      <th></th>\n",
       "      <th></th>\n",
       "      <th></th>\n",
       "      <th></th>\n",
       "    </tr>\n",
       "  </thead>\n",
       "  <tbody>\n",
       "    <tr>\n",
       "      <th>0</th>\n",
       "      <td>Male</td>\n",
       "      <td>21</td>\n",
       "      <td>1</td>\n",
       "      <td>35.0</td>\n",
       "      <td>0</td>\n",
       "      <td>1-2 Year</td>\n",
       "      <td>Yes</td>\n",
       "      <td>65101.0</td>\n",
       "      <td>124.0</td>\n",
       "      <td>187</td>\n",
       "      <td>0</td>\n",
       "    </tr>\n",
       "    <tr>\n",
       "      <th>1</th>\n",
       "      <td>Male</td>\n",
       "      <td>43</td>\n",
       "      <td>1</td>\n",
       "      <td>28.0</td>\n",
       "      <td>0</td>\n",
       "      <td>&gt; 2 Years</td>\n",
       "      <td>Yes</td>\n",
       "      <td>58911.0</td>\n",
       "      <td>26.0</td>\n",
       "      <td>288</td>\n",
       "      <td>1</td>\n",
       "    </tr>\n",
       "    <tr>\n",
       "      <th>2</th>\n",
       "      <td>Female</td>\n",
       "      <td>25</td>\n",
       "      <td>1</td>\n",
       "      <td>14.0</td>\n",
       "      <td>1</td>\n",
       "      <td>&lt; 1 Year</td>\n",
       "      <td>No</td>\n",
       "      <td>38043.0</td>\n",
       "      <td>152.0</td>\n",
       "      <td>254</td>\n",
       "      <td>0</td>\n",
       "    </tr>\n",
       "    <tr>\n",
       "      <th>3</th>\n",
       "      <td>Female</td>\n",
       "      <td>35</td>\n",
       "      <td>1</td>\n",
       "      <td>1.0</td>\n",
       "      <td>0</td>\n",
       "      <td>1-2 Year</td>\n",
       "      <td>Yes</td>\n",
       "      <td>2630.0</td>\n",
       "      <td>156.0</td>\n",
       "      <td>76</td>\n",
       "      <td>0</td>\n",
       "    </tr>\n",
       "    <tr>\n",
       "      <th>4</th>\n",
       "      <td>Female</td>\n",
       "      <td>36</td>\n",
       "      <td>1</td>\n",
       "      <td>15.0</td>\n",
       "      <td>1</td>\n",
       "      <td>1-2 Year</td>\n",
       "      <td>No</td>\n",
       "      <td>31951.0</td>\n",
       "      <td>152.0</td>\n",
       "      <td>294</td>\n",
       "      <td>0</td>\n",
       "    </tr>\n",
       "  </tbody>\n",
       "</table>\n",
       "</div>"
      ],
      "text/plain": [
       "    Gender  Age  Driving_License  Region_Code  Previously_Insured Vehicle_Age  \\\n",
       "id                                                                              \n",
       "0     Male   21                1         35.0                   0    1-2 Year   \n",
       "1     Male   43                1         28.0                   0   > 2 Years   \n",
       "2   Female   25                1         14.0                   1    < 1 Year   \n",
       "3   Female   35                1          1.0                   0    1-2 Year   \n",
       "4   Female   36                1         15.0                   1    1-2 Year   \n",
       "\n",
       "   Vehicle_Damage  Annual_Premium  Policy_Sales_Channel  Vintage  Response  \n",
       "id                                                                          \n",
       "0             Yes         65101.0                 124.0      187         0  \n",
       "1             Yes         58911.0                  26.0      288         1  \n",
       "2              No         38043.0                 152.0      254         0  \n",
       "3             Yes          2630.0                 156.0       76         0  \n",
       "4              No         31951.0                 152.0      294         0  "
      ]
     },
     "execution_count": 3,
     "metadata": {},
     "output_type": "execute_result"
    }
   ],
   "source": [
    "raw_df.head()"
   ]
  },
  {
   "cell_type": "code",
   "execution_count": 16,
   "metadata": {},
   "outputs": [
    {
     "data": {
      "text/plain": [
       "Gender                   object\n",
       "Age                       int64\n",
       "Driving_License           int64\n",
       "Region_Code             float64\n",
       "Previously_Insured        int64\n",
       "Vehicle_Age              object\n",
       "Vehicle_Damage           object\n",
       "Annual_Premium          float64\n",
       "Policy_Sales_Channel    float64\n",
       "Vintage                   int64\n",
       "Response                  int64\n",
       "dtype: object"
      ]
     },
     "execution_count": 16,
     "metadata": {},
     "output_type": "execute_result"
    }
   ],
   "source": [
    "raw_df.dtypes"
   ]
  },
  {
   "cell_type": "code",
   "execution_count": 4,
   "metadata": {},
   "outputs": [
    {
     "name": "stdout",
     "output_type": "stream",
     "text": [
      "Gender: ['Male' 'Female']\n",
      "Age: [21 43 25 35 36 31 23 47 26 66 22 27 24 79 34 20 42 40 50 67 63 46 37 30\n",
      " 53 32 28 58 48 59 52 39 44 33 41 57 51 45 68 74 29 49 55 61 60 65 54 38\n",
      " 56 71 62 70 73 64 69 72 78 80 76 75 77 81 83 82 84 85]\n",
      "Driving_License: [1 0]\n",
      "Previously_Insured: [0 1]\n",
      "Vehicle_Age: ['1-2 Year' '> 2 Years' '< 1 Year']\n",
      "Vehicle_Damage: ['Yes' 'No']\n",
      "Vintage: [187 288 254  76 294 197 190 262  36 125 215  30 203 259 245 150 240 242\n",
      " 117 151 169 185 264  38 152 284  25 204 181 275  95 260 222 227 273 290\n",
      "  70 160  81  20 168 267 286 130  92 171 113 158 208  42  94 189  84 228\n",
      " 194 249 129  11 120  16 298 226 159 100 230 295 235 217  43 132 123 131\n",
      " 111 127 112 182 101  34  80 135 292  22 163 110  29  19  77 241 232 192\n",
      " 280 252 281 253 114  74 270  17 186  61 255  21 145  27  63 268 176 272\n",
      "  48 202 274 139 246 142  78  31 193 137 248 108  56 238 165 256 237 247\n",
      " 205  15 218 282  24  86  90  75  54 164 278  91  49 105 251 219  53 102\n",
      " 118 236 138  47 116 115 195  71  64 224  67  83 201 180 279 244 206 200\n",
      " 257 172 283 166 261  26 155 285 291 128 184  65 178  79  69  40 198 234\n",
      " 263 141  98 162 231  55 161  52 216 106 211 119 199 170 225 126  35 250\n",
      " 103  13 146 149  23 207 157  62 188 134 179  12 243 293  18 177 265 144\n",
      " 276 191  51 271 124 299 221  60 167 210  44 121  10  96 212 133 143 104\n",
      " 136  99 140 266  33  89  57  97 287 269 107 297  72  68 175 173  82 209\n",
      " 233  66  87 147  37 296  39 220 289 183 239 277 148  85 109 229  32 196\n",
      "  45 223  28 258  14 154 153 122  50  88  73  58  46 213  93 156 174 214\n",
      "  41  59]\n",
      "Response: [0 1]\n",
      "Region_Code: [35.  28.  14.   1.  15.  47.  45.   8.  11.   3.  10.  12.  37.  50.\n",
      " 30.  46.  29.  16.  26.  25.  41.  48.   7.   4.  24.  36.  33.   2.\n",
      "  9.  27.  18.  43.  49.  17.  13.  38.   6.  21.  23.   0.  19.   5.\n",
      " 39.  44.  20.  40.  22.  32.  42.  31.  34.  51.  52.  39.2]\n",
      "Policy_Sales_Channel: [124.  26. 152. 156. 160.   8.  31. 157.  60. 122.  15.  30. 147.   1.\n",
      "  63. 136. 154.  18. 135. 151.   3.  10.  55. 108.   7.  29. 163.  13.\n",
      " 133. 145.  25.  12. 109.  23.  78.   4. 153. 150. 146. 120. 107. 155.\n",
      "  61.  14.  45.  11.  19.  24.  52. 132. 125.  59.  16.  22.  56.  20.\n",
      " 148. 158. 159. 139.   9. 113. 121.  21. 111.  64. 116. 103. 128.  65.\n",
      "  37.  91. 129. 127. 106. 140.  35. 131.  17.  93.  90.  36. 118.  54.\n",
      "  62. 138.  42.  46.  86.  80.  68. 119.  94.  48.  47.  83.  97.  70.\n",
      "  53.  44. 114.  98.  88. 110.  32. 126.  96.  99. 130.  66. 105.  51.\n",
      "  38. 137.  89.  81.  92. 117.  73.  69.  49.  87.  33.  39.  50. 123.\n",
      "  75. 101. 115. 100.  95.  57.  71. 134.  82.   6.  58. 104.  41.  40.\n",
      "   2.  79.  34.  76.  28.  74.  43.  67.  27. 112. 102.   5.]\n"
     ]
    }
   ],
   "source": [
    "# for the categorical values, show the unique values\n",
    "for col in raw_df.columns:\n",
    "    if raw_df[col].dtype == 'object' or raw_df[col].dtype == 'int':\n",
    "        print(f'{col}: {raw_df[col].unique()}')\n",
    "\n",
    "print(f\"Region_Code: {raw_df[\"Region_Code\"].unique()}\")\n",
    "print(f\"Policy_Sales_Channel: {raw_df[\"Policy_Sales_Channel\"].unique()}\")"
   ]
  },
  {
   "cell_type": "code",
   "execution_count": 20,
   "metadata": {},
   "outputs": [],
   "source": [
    "# correcting dtypes after checking the unique values\n",
    "raw_df[\"Region_Code\"] = raw_df[\"Region_Code\"].astype(str)\n",
    "raw_df[\"Policy_Sales_Channel\"] = raw_df[\"Policy_Sales_Channel\"].astype(str)\n",
    "\n",
    "raw_df[\"Vintage\"] = raw_df[\"Vintage\"].astype(float)"
   ]
  }
 ],
 "metadata": {
  "kernelspec": {
   "display_name": "ml-luuk",
   "language": "python",
   "name": "python3"
  },
  "language_info": {
   "codemirror_mode": {
    "name": "ipython",
    "version": 3
   },
   "file_extension": ".py",
   "mimetype": "text/x-python",
   "name": "python",
   "nbconvert_exporter": "python",
   "pygments_lexer": "ipython3",
   "version": "3.12.2"
  }
 },
 "nbformat": 4,
 "nbformat_minor": 2
}
